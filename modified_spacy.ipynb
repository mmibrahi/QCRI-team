{
 "cells": [
  {
   "cell_type": "code",
   "execution_count": 25,
   "id": "6b7c1ec3-ed9c-4638-a2da-9b6870d1b8a2",
   "metadata": {},
   "outputs": [],
   "source": [
    "import spacy\n",
    "import re\n",
    "from docx import Document\n",
    "from spacy.matcher import Matcher\n",
    "import json\n",
    "import math"
   ]
  },
  {
   "cell_type": "code",
   "execution_count": 27,
   "id": "459ab97f-fcb4-42b1-a3d7-dc8a00714cc3",
   "metadata": {},
   "outputs": [
    {
     "name": "stdout",
     "output_type": "stream",
     "text": [
      "85255\n",
      "<class 'str'>\n"
     ]
    }
   ],
   "source": [
    "nlp = spacy.load(\"en_core_web_sm\")\n",
    "loaddoc=Document(r\"Desktop/text.docx\")\n",
    "#loaddoc=Document(r\"Desktop/Naṣīr al.docx\")\n",
    "text=[]\n",
    "for paragraph in loaddoc.paragraphs:\n",
    "    text.append(paragraph.text)\n",
    "    #jointext='\\n'.join(text)\n",
    "    extracted='\\n'.join(text)\n",
    "\n",
    "doc=nlp(extracted) \n",
    "print(len(extracted))\n",
    "print(type(extracted))\n",
    "\n",
    "#print(len(tokenized))\n",
    "#print(tokenized)"
   ]
  },
  {
   "cell_type": "code",
   "execution_count": 29,
   "id": "03b36d4b-f3fa-4a63-8a5a-ccd9201f73de",
   "metadata": {},
   "outputs": [
    {
     "name": "stdout",
     "output_type": "stream",
     "text": [
      "108\n",
      "Tusi was born in Tus in 1201 and died in Baghdad in 1274. Very little is known about his childhood and early education, apart from what he writes in his autobiography, Contemplation and Action (Sayr wa suluk). Later on he corresponded with Qaysari, the son-in-law of Ibn al-‘Arabi, and it seems that mysticism, as propagated by Sufi masters of his time, was not appealing to his mind ,and once the occasion was suitable, he composed his own manual of philosophical Sufism in the form of a small booklet entitled The Attributes of the Illustrious (Awsaf al-ashraf). The Mongol invasion and the turmoil it caused in the eastern Islamic territories hardly left the life of any of its citizens untouched. Although under Mongol domination, Tusi’s allegiance to any particular community or persuasion could not have been of any particular importance, the process itself paved the ground for Tusi to write on various aspects of Shi‘ism, both from Ismaili and Twelver Shi‘i viewpoints, with scholarly vigour and enthusiasm. (3) History: Fath-i Baghdad which appears as an appendix to Tarikh-i Jahan-gushay of Juwayni (London, 1912-27), vol. An encyclopedia of philosophy articles written by professional philosophers.   Where Did the Moon Come From?           External Websites                    Internet Encyclopedia of Philosophy - Biography of Nasir al-Din Tusi      Also known as: Muḥammad ibn Muḥammad ibn al-Ḥasan al-Ṭūsī            Written and fact-checked by        The Editors of Encyclopaedia Britannica Encyclopaedia Britannica\\'s editors oversee subject areas in which they have extensive knowledge, whether from years of experience gained by working on that content or via study for an advanced degree. They write new content and verify and edit content received from contributors.        During this period, al-Ṭūsī wrote on Ismāʿīlīte theology (Taṣawwurāt; “Notions”), logic (Asās al-iqtibās; “Foundations of Inference”), and mathematics (Taḥrīr al-Majisṭī; “Commentary on the Almagest”).    (The alacrity with which he went to work for them fueled accusations that his conversion to the Ismāʿīlīte faith was feigned, as well as rumours that he betrayed the city’s defenses.) He wrote approximately 150 books in Arabic and Persian and edited the definitive Arabic versions of the works of Euclid, Archimedes, Ptolemy, Autolycus, and Theodosius. He also made original contributions to mathematics and astronomy. By means of this construction, al-Ṭūsī succeeded in reforming the Ptolemaic planetary models, producing a system in which all orbits are described by uniform circular motion. He made important contributions to many branches of Islamic learning, and under his direction Marāgheh sparked a revival of Islamic mathematics, astronomy, philosophy, and theology. He made important contributions to astronomy and wrote many commentaries on Greek texts.             From Tus, al-Tusi went to Nishapur which is 75 km west of Tus. However, al-Tusi did some of his best work while moving round the different strongholds, and during this period he wrote important works on logic, philosophy, mathematics and astronomy. The first of these works, Akhlaq-i nasiri, was written in 1232. It was a work on ethics which al-Tusi dedicated to the Isma\\'ili ruler Nasir ad-Din \\'Abd ar-Rahim.    He published Zij-i ilkhani (the Ilkhanic Tables), written first in Persian and later translated into Arabic, after making observations for 12 years. This was not the only important work which al-Tusi produced in astronomy. Many historians claim that the Tusi-couple result was used by Copernicus after he discovered it in Al-Tusi\\'s work, but not all agree; see for example   where it is claimed that Copernicus took the result from Proclus\\'s Commentary on the first book of Euclid and not from al-Tusi.   Among numerous other contributions to astronomy, al-Tusi calculated the value of 51\\' for the precession of the equinoxes. He also wrote works on astronomical instruments, for example on constructing and using an astrolabe.    He wrote five works on the subject, the most important of which is one on inference. He also discusses the disjunctive propositions which follow from a conditional proposition. Al-Tusi wrote many commentaries on Greek texts. In particular he wrote a commentary on Menelaus\\'s Spherics (see   for details), and Archimedes\\' On the sphere and cylinder (see   for details). In 1247 al-Tusi wrote Tahrir al-Majisti (Commentary on the Almagest) in which he introduced various trigonometrical techniques to calculate tables of sines; see   for details. One of al-Tusi\\'s most important mathematical contributions was the creation of trigonometry as a mathematical discipline in its own right rather than as just a tool for astronomical applications. Another mathematical contribution was al-Tusi\\'s manuscript, dated 1265, concerning the calculation of nnn-th roots of an integer; see   for details of a copy of this manuscript made in 1413. He wrote a famous work on minerals which contains an interesting theory of colour based on mixtures of black and white, and included chapters on jewels and perfumes. He also wrote on medicine, but his medical works are among his least important. Much more important were al-Tusi\\'s contributions to philosophy and ethics. Al-Tusi had a number of pupils, one of the better known being Nizam al-a\\'Raj who also wrote a commentary on the Almagest â\\x93\\x89(The major thesis: from the Arabic \\'al-majisti\\' -- the Arabic translation of the Greek \\'Mathematike Syntaxis\\' later translated into Latin as \\'Magna Syntaxis\\'). Al-Tusi\\'s influence, which continued through these pupils, is summed up in   as follows:- Al-Tusi\\'s influence, especially in eastern Islam, was immense. Other Mathematicians born in Iran   L I Dovlatova, Basic objects in the \\'introduction\\' to the first book of \\'Tahrir Ugli dis\\' by Muhammed Nasir ad-Din at-Tusi (Russian), Azerbaidzan. Honours awarded to Nasir al-Din al-Tusi  Popular biographies list Number 55 Lunar features Crater Nasireddin Google doodle 2013              Cross-references       (show)       History Topics: Arabic mathematics : forgotten brilliance? Jeff Miller\\'s postage stamps Other: Most popular biographies â\\x80\\x93 2024 Other: Popular biographies 2018           Written by J J O\\'Connor and E F Robertson      Last Update July 1999                       DJF/JOC/EFR Copyright information Accessibility statement   School of Mathematics and Statistics  University of St Andrews, Scotland                     If you have comments, or spot errors, we are always pleased to             hear from you.                          To reward your contribution, here is a gift for you: A free trial for our video production service.             Share to social media   +1 point                                       Thank you for your contribution! Version Summary Created by Modification Content Size Created at Operation   1                              handwiki                           Catherine Yang    --                               3200                          2022-11-22 01:33:56                ×     Video Upload Options Do you have a full video?   Nasir al-Din al-Tusi was a well published author, writing on subjects of math, engineering, prose, and mysticism. The Muslim scholar Ibn Khaldun (1332–1406) considered Tusi to be the greatest of the later Persian scholars.  There is also reason to believe that he may have influenced Copernican heliocentrism.       2. At a young age, he moved to Nishapur to study philosophy under Farid al-Din Damad and mathematics under Muhammad Hasib.  Nasir-al-Din Tusi writes in his work, Desideratum of the Faithful (Maṭlūb al-muʾminīn),“To become people of spiritual reality, it is incumbent to fulfill the symbolic elucidation (ta\\'wīl) of the seven pillars of the religious law (sharīʿat)”. He also explains that fulfilling the religious law is much easier than fulfilling its spiritual interpretation.  He explains in his book Aghaz u anjam that the sacred accounts of history that we perceive within the bounds of space and time symbolize events that have no such restrictions. In Mosul, al-Tusi studied mathematics and astronomy with Kamal al-Din Yunus (d. AH 639 / AD 1242), a pupil of Sharaf al-Dīn al-Ṭūsī.  Later on he corresponded with Sadr al-Din al-Qunawi, the son-in-law of Ibn Arabi, and it seems that mysticism, as propagated by Sufi masters of his time, was not appealing to him. As the armies of Genghis Khan swept his homeland, he was employed by the Nizari Ismaili state and, while moving from stronghold to stronghold, made his most important contributions in science,  first in those of the Quhistan region under Muhtasham Nasir al-Din Abd al-Rahim ibn Abi Mansur (where he wrote the Nasirean Ethics). Nasir al-Din Tusi’s autobiography, The Voyage (Sayr wa-Suluk) explains that a literary devastation such as the devastation of the Alamūt libraries in 1256 would not waver the spirit of the Nizari Ismaili community because they give more importance to the “living book” (the Imam of the Time) rather than the “written word”. Works Tusi has about 150 works, of which 25 are in Persian and the remaining are in Arabic,  and there is one treatise in Persian, Arabic and Turkish.     \\r Many commentaries were written about this work called Sharh al-Tadhkirah (A Commentary on al-Tadhkirah) - Commentaries were written by Abd al-Ali ibn Muhammad ibn al-Husayn al-Birjandi and by Nazzam Nishapuri. Tusi’s prose writing, which numbers over 150 works, represent one of the largest collections by a single Islamic author. Writing in both Arabic and Persian, Nasir al-Din Tusi dealt with both religious (\"Islamic\") topics and non-religious or secular subjects (\"the ancient sciences\").  His works include the definitive Arabic versions of the works of Euclid, Archimedes, Ptolemy, Autolycus, and Theodosius of Bithynia.  4.1. His famous student Shams al-Din al-Bukhari  was the teacher of Byzantine scholar Gregory Chioniades,  who had in turn trained astronomer Manuel Bryennios  about 1300 in Constantinople. Although it doesn\\'t mean that he was a supporter of mobility of the earth, as he and his 16th-century commentator al-Bīrjandī, maintained that the earth\\'s immobility could be demonstrated, only by physical principles found in natural philosophy.  Tusi\\'s criticisms of Ptolemy were similar to the arguments later used by Copernicus in 1543 to defend the Earth\\'s rotation.  About the real essence of the Milky Way, Ṭūsī in his Tadhkira writes: \"The Milky Way, i.e. the galaxy, is made up of a very large number of small, tightly-clustered stars, which, on account of their concentration and smallness, seem to be cloudy patches.   Three centuries later the proof of the Milky Way consisting of many stars came in 1610 when Galileo Galilei used a telescope to study the Milky Way and discovered that it is really composed of a huge number of faint stars.  4.2. Logic Nasir al-Din Tusi was a supporter of Avicennian logic, and wrote the following commentary on Avicenna\\'s theory of absolute propositions:  \"What spurred him to this was that in the assertoric syllogistic Aristotle and others sometimes used contradictories of absolute propositions on the assumption that they are absolute; and that was why so many decided that absolutes did contradict absolutes.     Al-Tusi was the first to write a work on trigonometry independently of astronomy.  Al-Tusi, in his Treatise on the Quadrilateral, gave an extensive exposition of spherical trigonometry, distinct from astronomy.  This followed earlier work by Greek mathematicians such as Menelaus of Alexandria, who wrote a book on spherical trigonometry called Sphaerica, and the earlier Muslim mathematicians Abū al-Wafā\\' al-Būzjānī and Al-Jayyani. Biology In his Akhlaq-i Nasiri, Tusi wrote about several biological topics. He described \"grasses which grow without sowing or cultivation, by the mere mingling of elements,\"  as closest to minerals. \"  The lowest animals \"are adjacent to the region of plants: such are those animals which propagate like grass, being incapable of mating [...], e.g. earthworms, and certain insects\".  He continued:  \"The noblest of the species is that one whose sagacity and perception is such that it accepts discipline and instruction: thus there accrues to it the perfection not originally created in it. \"  Some scholars have interpreted Tusi\\'s biological writings as suggesting that he adhered to some kind of evolutionary theory.   Chemistry Tusi contributed to the field of chemistry, stating an early law of conservation of mass.  4.7. A minor planet 10269 Tusi discovered by Soviet astronomer Nikolai Stepanovich Chernykh in 1979 is named after him.   In February 2013, Google celebrated his 812th birthday with a doodle, which was accessible in its websites with Arabic language calling him al-farsi (the Persian).   His birthday is also celebrated as Engineer\\'s Day in Iran.  5.1. Possible Influence on Nicolaus Copernicus Some scholars believe that Nicolaus Copernicus may have been influenced by Middle Eastern astronomers due to uncanny similarities between his work and the uncited work of these Islamic scholars, including Nasir al-Din al-Tusi, Ibn al-Shatir, Muayyad al-Din al-Urdi, and Qutb al-Din al-Shirazi.       al-Tusi specifically, the plagiarism in question comes from similarities in the Tusi couple and Copernicus\\' geometric method of removing the Equant from mathematical astronomy.   Not only do both of the methods match geometrically, however, more importantly they both use the same exact lettering system for each vertex; a detail that seems too preternatural to be happenstance.   There was just such a Jewish scholar by the name of Abner of Burgos who wrote a book containing an incomplete version of the Tusi couple that he had learned second hand, which could have been found by Copernicus.  Despite this circumstantial evidence, there is still no direct proof that Copernicus did plagiarize the work of Nasir al-Din al-Tusi, and if he did that he did so intentionally.     The Tusi couple is not a unique principle, and as the equant was a problematic necessity to preserve circular motion it is possible that more than one astronomer wished to improve on it; to that end, some scholars argue it would not be difficult for an astronomer to use Euclid\\'s own work to derive the Tusi couple on their own, and that Copernicus most likely did this instead of stealing.   Before Copernicus ever published the work on his geometrical mechanism, he had written at length his dissatisfaction over Ptolemaic astronomy and the use of the equant, so some scholars then purport that it was not unfounded for Copernicus to have rederived the Tusi couple without having seen it as he had clear motive to do so.  Also, some scholars that argue Copernicus did commit plagiarism say that by never claiming it as his own, he inherently condemns himself.  However, others critique that mathematicians do not normally claim work like other scientists, so declaring a theorem for oneself is an exception and not the norm.  Therefore, there is motive and some explanation as to why and how Copernicus did not plagiarize, despite the evidence against him.       Further Reading                                                      In this part, we encourage you to list the link of papers wrote by the character, or published reviews/articles about his/her academic contributions.                                                                  \"Hulegu, contrite at the damage he had wrought, patronized the great Persian scholar, Nasiruddin Tusi (died 1274), who saved the lives of many other scientists and artists, accumulated a library of 400000 volumes, and built an astronomical ...\"  Bar Hebraeus; Joosse, Nanne Pieter George (2004).   \"In fact it was common among Persian Islamic philosophers to write few quatrains on the side often in the spirit of some of the poems of Khayyam singing about the impermanence of the world and its transience and similar themes. One needs to only recall the names of Ibn Sina, Suhrawardi, Nasir al-Din Tusi and Mulla Sadra, who wrote poems along with extensive prose works.\"  Rodney Collomb, \"The rise and fall of the Arab Empire and the founding of Western pre-eminence\", Published by Spellmount, 2006. \"One of al-Tusi\\'s most important mathematical contributions was the creation of trigonometry as a mathematical discipline in its own right rather than as just a tool for astronomical applications. \"His major contribution in mathematics (Nasr, 1996, pp. Edited by: P. Bearman, Th. Bianquis, C.E. Bosworth, E. van Donzel and W.P. Heinrichs. Brill, 2007. Writing in both Arabic and Persian, Nasir al-Din dealt with both religious (\"Islamic\") topics and non-religious or secular subjects (\"the ancient sciences\").\" There is even a treatise on geomancy which Tusi wrote in Arabic, Persian, and Turkish, demonstrating his mastery of all three languages.\" ISBN 0-262-08136-9.    of al-Tusi\\'s most important mathematical contributions was the creation of trigonometry as a mathematical discipline in its own right rather than as just a tool for astronomical applications. Bijli, Shah Muhammad and Delli, Idarah-i Adabiyāt-i (2004) Early Muslims and their contribution to science: ninth to fourteenth century Idarah-i Adabiyat-i Delli, Delhi, India, page 44, OCLC 66527483   Kirchner, E. (2013). He wrote: \\'A body of matter cannot disappear completely. Retrieved 2013-02-27.  \"Nasir al-Din al-Tusi\\'s 812th Birthday\". By using this site, you agree to the Terms and Conditions and Privacy Policy.                                         \n"
     ]
    }
   ],
   "source": [
    "\n",
    "lemma_nounlist=[\"birthday\",\"born\",\"die\",\"publish\",\"accomplishment\",\"advisors\",\"descendents\",\"student\",\"contribution\",\"prize\"]\n",
    "lemma_verblist=[\"publish\",\"influence\",\"write\",\"edit\",\"work\",\"contribution\"]\n",
    "matched=Matcher(nlp.vocab)\n",
    "\n",
    "pattern1=[ {\"POS\":\"PROPN\",\"OP\":\"+\"},{\"POS\":\"VERB\"},{\"POS\":\"ADP\"},{\"IS_PUNCT\":True,\"OP\": \"?\"}] \n",
    "pattern2=[ {\"POS\":\"PRON\",\"OP\":\"+\"},{\"POS\":\"VERB\"},{\"POS\":\"ADP\"},{\"IS_PUNCT\":True,\"OP\": \"?\"}] \n",
    "pattern3=[{\"POS\":\"NOUN\",\"LEMMA\":{\"IN\":lemma_nounlist}}] \n",
    "pattern4=[{\"POS\":\"VERB\",\"LEMMA\":{\"IN\":lemma_verblist}}]\n",
    "\n",
    "matched.add(\"PROPER_NOUN\",[pattern1],greedy=\"LONGEST\")\n",
    "matched.add(\"PRONOUN\",[pattern2],greedy=\"LONGEST\")\n",
    "matched.add(\"PROPER_NOUN\",[pattern3],greedy=\"LONGEST\")\n",
    "matched.add(\"VERB\",[pattern4],greedy=\"LONGEST\")\n",
    "\n",
    "matches=matched(doc)\n",
    "matches.sort(key = lambda x:x[1])\n",
    "print(len(matches))\n",
    "lines=[]\n",
    "\n",
    "for m in matches:\n",
    "    #print(m, doc[m[1]:m[2]].sent.text)\n",
    "    #print(doc[m[1]:m[2]].sent.text)\n",
    "    if doc[m[1]:m[2]].sent.text not in lines:  \n",
    "        #print(doc[m[1]:m[2]].sent.text)\n",
    "        lines.append(doc[m[1]:m[2]].sent.text)\n",
    "        extracted2='\\n'.join(lines)\n",
    "        \n",
    "#print(extracted2)\n",
    "\n",
    "\n",
    "clean=re.compile(r'https?://\\S+|www\\.\\S+').sub(' ',extracted2) \n",
    "noref=re.compile(r'\\[\\d+\\]').sub(' ',clean) \n",
    "extracted3=noref.replace('\\\\t',' ').replace('\\n',' ').replace('\\\\xa0',' ').replace('\\u00a0', '').replace('&nbsp;', '')\n",
    "\n",
    "print(extracted3)\n",
    "#print(type(extracted3))\n",
    "doc2=nlp(extracted3)\n",
    "#print(doc2)"
   ]
  },
  {
   "cell_type": "code",
   "execution_count": 9,
   "id": "a1ab1475-d4ca-4886-9161-7332ea17bf6d",
   "metadata": {},
   "outputs": [
    {
     "name": "stdout",
     "output_type": "stream",
     "text": [
      "5\n",
      "{\"country-education\": \"Mosul\", \"name\": \"Nasir al-Din Tusi\", \"birth\": \"1201\", \"death\": \"1274\", \"country-birth\": \"Tus\"}\n"
     ]
    }
   ],
   "source": [
    "from transformers import AutoModelForQuestionAnswering, AutoTokenizer, pipeline\n",
    "\n",
    "model_name = \"deepset/roberta-base-squad2\"   \n",
    "\n",
    "nlp1 = pipeline('question-answering', model=model_name, tokenizer=model_name)\n",
    "QA_input = [\n",
    "    {'question': 'who is the biography about?','context': extracted3},\n",
    "    {'question': 'what year he was born?','context': extracted3},\n",
    "    {'question':'what year did he die?','context': extracted3},\n",
    "    {'question':'which country was he born in?', 'context':extracted3},\n",
    "    {'question': 'which country did he complete his education?','context':extracted3}\n",
    "]\n",
    "#extracted3=[]\n",
    "res=nlp1(QA_input)\n",
    "print(len(res))\n",
    "summary={}\n",
    "max_iter=5\n",
    "#import json\n",
    "for r in range(max_iter):\n",
    "    if r==1:\n",
    "        summary['name']=res[0]['answer']\n",
    "        name=res[0]['answer']\n",
    "    elif r==2:\n",
    "        summary['birth']=res[1]['answer']\n",
    "    elif r==3:\n",
    "        summary['death']=res[2]['answer']\n",
    "    elif r==4:\n",
    "        summary['country-birth']=res[3]['answer']\n",
    "    else:\n",
    "        summary['country-education']=res[4]['answer']\n",
    "    \n",
    "json_pattern=json.dumps(summary)\n",
    "print(json_pattern)"
   ]
  },
  {
   "cell_type": "code",
   "execution_count": 17,
   "id": "a4f34e5b-c0b4-48d2-ae3d-95aa996afed8",
   "metadata": {},
   "outputs": [
    {
     "name": "stdout",
     "output_type": "stream",
     "text": [
      "No duplicate\n",
      "Section 1:\n",
      "Very little is known about his childhood and early education, apart from what he writes in his autobiography, Contemplation and Action (Sayr wa suluk). Later on he corresponded with Qaysari, the son-in-law of Ibn al-‘Arabi, and it seems that mysticism, as propagated by Sufi masters of his time, was not appealing to his mind ,and once the occasion was suitable, he composed his own manual of philosophical Sufism in the form of a small booklet entitled The Attributes of the Illustrious (Awsaf al-ashraf). Although under Mongol domination, Tusi’s allegiance to any particular community or persuasion could not have been of any particular importance, the process itself paved the ground for Tusi to write on various aspects of Shi‘ism, both from Ismaili and Twelver Shi‘i viewpoints, with scholarly vigour and enthusiasm. An encyclopedia of philosophy articles written by professional philosophers. They write new content and verify and edit content received from contributors. During this period, al-Ṭūsī wrote on Ismāʿīlīte theology (Taṣawwurāt; “Notions”), logic (Asās al-iqtibās; “Foundations of Inference”), and mathematics (Taḥrīr al-Majisṭī; “Commentary on the Almagest”). He wrote approximately 150 books in Arabic and Persian and edited the definitive Arabic versions of the works of Euclid, Archimedes, Ptolemy, Autolycus, and Theodosius. He made important contributions to astronomy and wrote many commentaries on Greek texts. However, al-Tusi did some of his best work while moving round the different strongholds, and during this period he wrote important works\n",
      "\n",
      "Section 2:\n",
      "on logic, philosophy, mathematics and astronomy. The first of these works, Akhlaq-i nasiri, was written in 1232. He published Zij-i ilkhani (the Ilkhanic Tables), written first in Persian and later translated into Arabic, after making observations for 12 years. He also wrote works on astronomical instruments, for example on constructing and using an astrolabe. He wrote five works on the subject, the most important of which is one on inference. Al-Tusi wrote many commentaries on Greek texts. In particular he wrote a commentary on Menelaus\\'s Spherics (see for details), and Archimedes\\' On the sphere and cylinder (see for details). In 1247 al-Tusi wrote Tahrir al-Majisti (Commentary on the Almagest) in which he introduced various trigonometrical techniques to calculate tables of sines; see for details. He wrote a famous work on minerals which contains an interesting theory of colour based on mixtures of black and white, and included chapters on jewels and perfumes. He also wrote on medicine, but his medical works are among his least important. Al-Tusi had a number of pupils, one of the better known being Nizam al-a\\'Raj who also wrote a commentary on the Almagest â\\x93\\x89(The major thesis: from the Arabic \\'al-majisti\\' -- the Arabic translation of the Greek \\'Mathematike Syntaxis\\' later translated into Latin as \\'Magna Syntaxis\\'). Jeff Miller\\'s postage stamps Other: Most popular biographies â\\x80\\x93 2024 Other: Popular biographies 2018 Written by J J O\\'Connor and E F Robertson Last\n",
      "\n",
      "Section 3:\n",
      "Update July 1999 DJF/JOC/EFR Copyright information Accessibility statement School of Mathematics and Statistics University of St Andrews, Scotland If you have comments, or spot errors, we are always pleased to hear from you. Nasir al-Din al-Tusi was a well published author, writing on subjects of math, engineering, prose, and mysticism. Nasir-al-Din Tusi writes in his work, Desideratum of the Faithful (Maṭlūb al-muʾminīn),“To become people of spiritual reality, it is incumbent to fulfill the symbolic elucidation (ta\\'wīl) of the seven pillars of the religious law (sharīʿat)”. As the armies of Genghis Khan swept his homeland, he was employed by the Nizari Ismaili state and, while moving from stronghold to stronghold, made his most important contributions in science, first in those of the Quhistan region under Muhtasham Nasir al-Din Abd al-Rahim ibn Abi Mansur (where he wrote the Nasirean Ethics). Nasir al-Din Tusi’s autobiography, The Voyage (Sayr wa-Suluk) explains that a literary devastation such as the devastation of the Alamūt libraries in 1256 would not waver the spirit of the Nizari Ismaili community because they give more importance to the “living book” (the Imam of the Time) rather than the “written word”. Many commentaries were written about this work called Sharh al-Tadhkirah (A Commentary on al-Tadhkirah) - Commentaries were written by Abd al-Ali ibn Muhammad ibn al-Husayn al-Birjandi and by Nazzam Nishapuri. Writing in both Arabic and Persian, Nasir al-Din Tusi dealt with both religious (\"Islamic\") topics\n",
      "\n",
      "Section 4:\n",
      "and non-religious or secular subjects (\"the ancient sciences\"). About the real essence of the Milky Way, Ṭūsī in his Tadhkira writes: \"The Milky Way, i.e. the galaxy, is made up of a very large number of small, tightly-clustered stars, which, on account of their concentration and smallness, seem to be cloudy patches. Three centuries later the proof of the Milky Way consisting of many stars came in 1610 when Galileo Galilei used a telescope to study the Milky Way and discovered that it is really composed of a huge number of faint stars. Logic Nasir al-Din Tusi was a supporter of Avicennian logic, and wrote the following commentary on Avicenna\\'s theory of absolute propositions: \"What spurred him to this was that in the assertoric syllogistic Aristotle and others sometimes used contradictories of absolute propositions on the assumption that they are absolute; and that was why so many decided that absolutes did contradict absolutes. Al-Tusi was the first to write a work on trigonometry independently of astronomy. This followed earlier work by Greek mathematicians such as Menelaus of Alexandria, who wrote a book on spherical trigonometry called Sphaerica, and the earlier Muslim mathematicians Abū al-Wafā\\' al-Būzjānī and Al-Jayyani. Biology In his Akhlaq-i Nasiri, Tusi wrote about several biological topics. There was just such a Jewish scholar by the name of Abner of Burgos who wrote a book containing an incomplete version of the Tusi couple that\n",
      "\n",
      "Section 5:\n",
      "he had learned second hand, which could have been found by Copernicus. Before Copernicus ever published the work on his geometrical mechanism, he had written at length his dissatisfaction over Ptolemaic astronomy and the use of the equant, so some scholars then purport that it was not unfounded for Copernicus to have rederived the Tusi couple without having seen it as he had clear motive to do so. Further Reading In this part, we encourage you to list the link of papers wrote by the character, or published reviews/articles about his/her academic contributions. \"In fact it was common among Persian Islamic philosophers to write few quatrains on the side often in the spirit of some of the poems of Khayyam singing about the impermanence of the world and its transience and similar themes. One needs to only recall the names of Ibn Sina, Suhrawardi, Nasir al-Din Tusi and Mulla Sadra, who wrote poems along with extensive prose works.\" Rodney Collomb, \"The rise and fall of the Arab Empire and the founding of Western pre-eminence\", Published by Spellmount, 2006. Writing in both Arabic and Persian, Nasir al-Din dealt with both religious (\"Islamic\") topics and non-religious or secular subjects (\"the ancient sciences\").\" There is even a treatise on geomancy which Tusi wrote in Arabic, Persian, and Turkish, demonstrating his mastery of all three languages.\" He wrote: \\'A body of matter cannot disappear completely.\n",
      "\n",
      "0\n",
      "[]\n",
      "{\"written\": []}\n"
     ]
    }
   ],
   "source": [
    "tokenized=[]\n",
    "for sent in doc2.sents:\n",
    "    for token in sent:\n",
    "        if token.lemma_ in [\"compose\", \"write\",\"publish\",\"accomplishment\"] and token.pos_ == \"VERB\":\n",
    "            #start_idx = token.idx - sent.start_char\n",
    "            #tokenized.append(sent.text[start_idx:])\n",
    "            tokenized.append(sent.text)\n",
    "            break     \n",
    "\n",
    "if len(tokenized)!= len(set(tokenized)):\n",
    "    print(\"Duplicates found\")\n",
    "else:\n",
    "    print(\"No duplicate\")\n",
    "#print(tokenized)\n",
    "result_string = '\\n'.join(tokenized)\n",
    "same=[]\n",
    "model_name2 = \"deepset/roberta-base-squad2\" \n",
    "nlp2 = pipeline('question-answering', model=model_name2, tokenizer=model_name2,top_k=100)\n",
    "\n",
    "\n",
    "words=result_string.split()\n",
    "totalword=len(words)\n",
    "word_persection=math.ceil(totalword/5)\n",
    "sections=[]\n",
    "for i in range(0,totalword,word_persection):\n",
    "    sections.append(' '.join(words[i:i+word_persection]))\n",
    "\n",
    "\n",
    "for i, section in enumerate(sections):\n",
    "    print(f\"Section {i+1}:\")\n",
    "    print(section)\n",
    "    ques={'question':f'what did {name} write?','context':section}\n",
    "    res4=nlp2(ques)\n",
    "    same.append(res4)\n",
    "    #print(res4)\n",
    "    print()\n",
    "#print(result_string)\n",
    "combined=[]\n",
    "\n",
    "for s in same:\n",
    "    for inner in s:\n",
    "        #print(inner['answer'])\n",
    "        doc5=nlp(inner['answer']) #spacy\n",
    "        for token in doc5.ents:\n",
    "            #print(token.text, token.label_)\n",
    "            if token.label_=='ORG' or token.label_=='WORK_OF_ART':\n",
    "                if token.text not in combined:\n",
    "                    combined.append(token.text)\n",
    "       \n",
    "print(len(combined))\n",
    "print(combined)\n",
    "\n",
    "summary2={}\n",
    "summary2['written']=combined\n",
    "json_pattern2=json.dumps(summary2)\n",
    "print(json_pattern2)"
   ]
  }
 ],
 "metadata": {
  "kernelspec": {
   "display_name": "Python 3 (ipykernel)",
   "language": "python",
   "name": "python3"
  },
  "language_info": {
   "codemirror_mode": {
    "name": "ipython",
    "version": 3
   },
   "file_extension": ".py",
   "mimetype": "text/x-python",
   "name": "python",
   "nbconvert_exporter": "python",
   "pygments_lexer": "ipython3",
   "version": "3.11.7"
  }
 },
 "nbformat": 4,
 "nbformat_minor": 5
}
