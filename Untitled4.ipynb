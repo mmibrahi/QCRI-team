{
 "cells": [
  {
   "cell_type": "code",
   "execution_count": 79,
   "id": "91cb8165-0138-4b5c-86ff-e884cdb17811",
   "metadata": {},
   "outputs": [
    {
     "name": "stdout",
     "output_type": "stream",
     "text": [
      "(4, 42)\n"
     ]
    }
   ],
   "source": [
    "from sklearn.feature_extraction.text import TfidfVectorizer\n",
    "\n",
    "corpus = [\n",
    "    'Michael',\n",
    "    'Mikaeel',\n",
    "    'Michelle',\n",
    "    'Mischal',\n",
    "]\n",
    "vectorizer = TfidfVectorizer(binary=False,analyzer='char', ngram_range=(1,3), use_idf=True, smooth_idf=True, norm='l2')\n",
    "X = vectorizer.fit_transform(corpus)\n",
    "vectorizer.get_feature_names_out()\n",
    "print(X.shape)"
   ]
  },
  {
   "cell_type": "code",
   "execution_count": 81,
   "id": "586a6810-0665-4c66-9d5e-da978b2498b8",
   "metadata": {},
   "outputs": [
    {
     "data": {
      "text/plain": [
       "array([1.22314355, 1.51082562, 1.91629073, 1.91629073, 1.91629073,\n",
       "       1.22314355, 1.22314355, 1.51082562, 1.91629073, 1.22314355,\n",
       "       1.91629073, 1.91629073, 1.22314355, 1.91629073, 1.22314355,\n",
       "       1.51082562, 1.91629073, 1.91629073, 1.91629073, 1.91629073,\n",
       "       1.        , 1.51082562, 1.51082562, 1.91629073, 1.91629073,\n",
       "       1.91629073, 1.91629073, 1.91629073, 1.91629073, 1.91629073,\n",
       "       1.        , 1.91629073, 1.91629073, 1.91629073, 1.        ,\n",
       "       1.        , 1.51082562, 1.91629073, 1.91629073, 1.91629073,\n",
       "       1.91629073, 1.91629073])"
      ]
     },
     "execution_count": 81,
     "metadata": {},
     "output_type": "execute_result"
    }
   ],
   "source": [
    "vectorizer.idf_"
   ]
  },
  {
   "cell_type": "code",
   "execution_count": 83,
   "id": "e3fb05a4-d3bb-4e80-95ca-8c4d0e374e9b",
   "metadata": {},
   "outputs": [
    {
     "data": {
      "text/plain": [
       "array(['a', 'ae', 'aee', 'ael', 'al', 'c', 'ch', 'cha', 'che', 'e', 'ee',\n",
       "       'eel', 'el', 'ell', 'h', 'ha', 'hae', 'hal', 'he', 'hel', 'i',\n",
       "       'ic', 'ich', 'ik', 'ika', 'is', 'isc', 'k', 'ka', 'kae', 'l', 'le',\n",
       "       'll', 'lle', 'm', 'mi', 'mic', 'mik', 'mis', 's', 'sc', 'sch'],\n",
       "      dtype=object)"
      ]
     },
     "execution_count": 83,
     "metadata": {},
     "output_type": "execute_result"
    }
   ],
   "source": [
    "vectorizer.get_feature_names_out()"
   ]
  },
  {
   "cell_type": "code",
   "execution_count": 85,
   "id": "4c4effa8-754a-46e3-93b0-a73d54feac55",
   "metadata": {},
   "outputs": [
    {
     "data": {
      "text/plain": [
       "array([[0.20971686, 0.25904204, 0.        , 0.32856199, 0.        ,\n",
       "        0.20971686, 0.20971686, 0.25904204, 0.        , 0.20971686,\n",
       "        0.        , 0.        , 0.20971686, 0.        , 0.20971686,\n",
       "        0.25904204, 0.32856199, 0.        , 0.        , 0.        ,\n",
       "        0.17145727, 0.25904204, 0.25904204, 0.        , 0.        ,\n",
       "        0.        , 0.        , 0.        , 0.        , 0.        ,\n",
       "        0.17145727, 0.        , 0.        , 0.        , 0.17145727,\n",
       "        0.17145727, 0.25904204, 0.        , 0.        , 0.        ,\n",
       "        0.        , 0.        ],\n",
       "       [0.17598075, 0.21737124, 0.27570786, 0.        , 0.        ,\n",
       "        0.        , 0.        , 0.        , 0.        , 0.35196151,\n",
       "        0.27570786, 0.27570786, 0.17598075, 0.        , 0.        ,\n",
       "        0.        , 0.        , 0.        , 0.        , 0.        ,\n",
       "        0.1438758 , 0.        , 0.        , 0.27570786, 0.27570786,\n",
       "        0.        , 0.        , 0.27570786, 0.27570786, 0.27570786,\n",
       "        0.1438758 , 0.        , 0.        , 0.        , 0.1438758 ,\n",
       "        0.1438758 , 0.        , 0.27570786, 0.        , 0.        ,\n",
       "        0.        , 0.        ],\n",
       "       [0.        , 0.        , 0.        , 0.        , 0.        ,\n",
       "        0.17040514, 0.17040514, 0.        , 0.26697259, 0.34081029,\n",
       "        0.        , 0.        , 0.17040514, 0.26697259, 0.17040514,\n",
       "        0.        , 0.        , 0.        , 0.26697259, 0.26697259,\n",
       "        0.13931737, 0.21048425, 0.21048425, 0.        , 0.        ,\n",
       "        0.        , 0.        , 0.        , 0.        , 0.        ,\n",
       "        0.27863474, 0.26697259, 0.26697259, 0.26697259, 0.13931737,\n",
       "        0.13931737, 0.21048425, 0.        , 0.        , 0.        ,\n",
       "        0.        , 0.        ],\n",
       "       [0.18454926, 0.        , 0.        , 0.        , 0.28913207,\n",
       "        0.18454926, 0.18454926, 0.22795505, 0.        , 0.        ,\n",
       "        0.        , 0.        , 0.        , 0.        , 0.18454926,\n",
       "        0.22795505, 0.        , 0.28913207, 0.        , 0.        ,\n",
       "        0.15088111, 0.        , 0.        , 0.        , 0.        ,\n",
       "        0.28913207, 0.28913207, 0.        , 0.        , 0.        ,\n",
       "        0.15088111, 0.        , 0.        , 0.        , 0.15088111,\n",
       "        0.15088111, 0.        , 0.        , 0.28913207, 0.28913207,\n",
       "        0.28913207, 0.28913207]])"
      ]
     },
     "execution_count": 85,
     "metadata": {},
     "output_type": "execute_result"
    }
   ],
   "source": [
    "X.toarray()"
   ]
  },
  {
   "cell_type": "code",
   "execution_count": 87,
   "id": "8ade021c-8d09-4829-969c-190a5114caaf",
   "metadata": {},
   "outputs": [
    {
     "data": {
      "text/plain": [
       "array([[1.        , 0.30260702, 0.49742869, 0.3763909 ],\n",
       "       [0.30260702, 1.        , 0.25016212, 0.11930968],\n",
       "       [0.49742869, 0.25016212, 1.        , 0.19944622],\n",
       "       [0.3763909 , 0.11930968, 0.19944622, 1.        ]])"
      ]
     },
     "execution_count": 87,
     "metadata": {},
     "output_type": "execute_result"
    }
   ],
   "source": [
    "X.dot(X.T).toarray()"
   ]
  },
  {
   "cell_type": "code",
   "execution_count": null,
   "id": "cd3111f8-6ccd-494b-8304-cd6cc96b1325",
   "metadata": {},
   "outputs": [],
   "source": [
    "# log N/#d\\\n",
    "\n",
    "<A,B>= |A| |B| cos0"
   ]
  }
 ],
 "metadata": {
  "kernelspec": {
   "display_name": "Python 3 (ipykernel)",
   "language": "python",
   "name": "python3"
  },
  "language_info": {
   "codemirror_mode": {
    "name": "ipython",
    "version": 3
   },
   "file_extension": ".py",
   "mimetype": "text/x-python",
   "name": "python",
   "nbconvert_exporter": "python",
   "pygments_lexer": "ipython3",
   "version": "3.11.7"
  }
 },
 "nbformat": 4,
 "nbformat_minor": 5
}
